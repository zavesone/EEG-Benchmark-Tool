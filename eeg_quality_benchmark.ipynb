{
 "cells": [
  {
   "cell_type": "markdown",
   "metadata": {},
   "source": [
    "# EEG Signal Quality Benchmark Notebook\n",
    "\n",
    "This notebook automatically assesses EEG signal quality using MNE-Python.\n",
    "It calculates three key metrics based on the MNE sample dataset:\n",
    "1. Signal-to-Noise Ratio (SNR)\n",
    "2. Common Mode Rejection Ratio (CMRR) Proxy (Line Noise Power)\n",
    "3. Alpha Power Ratio (Eyes Closed vs. Eyes Open proxy)\n",
    "\n",
    "The calculations aim to follow principles from Mike Cohen's \"Analyzing Neural Time Series Data\"."
   ]
  },
  {
   "cell_type": "markdown",
   "metadata": {},
   "source": [
    "## 1. Setup and Dependencies\n",
    "\n",
    "Import necessary libraries and define the configuration dictionary."
   ]
  },
  {
   "cell_type": "code",
   "execution_count": 29,
   "metadata": {},
   "outputs": [],
   "source": [
    "import mne\n",
    "import numpy as np\n",
    "import matplotlib.pyplot as plt\n",
    "import os\n",
    "from mne.datasets import sample\n",
    "import traceback # Added for better error reporting\n",
    "import json # For printing results"
   ]
  },
  {
   "cell_type": "code",
   "execution_count": 30,
   "metadata": {},
   "outputs": [
    {
     "name": "stdout",
     "output_type": "stream",
     "text": [
      "Using MNE sample data from: C:\\Users\\fedor\\mne_data\\MNE-sample-data\n",
      "Raw file path: C:\\Users\\fedor\\mne_data\\MNE-sample-data\\MEG\\sample\\sample_audvis_raw.fif\n"
     ]
    }
   ],
   "source": [
    "# Configuration Dictionary\n",
    "config = {\n",
    "    # Data Loading\n",
    "    'data_path': sample.data_path(),\n",
    "    'raw_fname_relative': os.path.join('MEG', 'sample', 'sample_audvis_raw.fif'),\n",
    "    'channels_to_analyze': ['EEG 001', 'EEG 002', 'EEG 058', 'EEG 059', 'EEG 060'], # Example frontal and occipital channels\n",
    "    # Preprocessing\n",
    "    'filter_bp_low': 1.0,  # Hz\n",
    "    'filter_bp_high': 45.0, # Hz\n",
    "    'line_noise_freq': 60.0, # Hz (for MNE sample dataset)\n",
    "    'apply_average_reference': True,\n",
    "    # SNR Calculation\n",
    "    'snr_signal_band': [8.0, 13.0], # Hz (Alpha band)\n",
    "    'snr_noise_bands': [[4.0, 7.0], [14.0, 30.0]], # Hz (Theta and Beta bands as noise estimate)\n",
    "    'psd_method': 'welch',\n",
    "    'psd_n_fft': 1024, # Samples (ИЗМЕНЕНО!)\n",
    "    'psd_n_overlap': 512, # Samples (ИЗМЕНЕНО!)\n",
    "    'psd_fmin': 1.0, # Hz\n",
    "    'psd_fmax': 50.0, # Hz (Max freq for general PSD)\n",
    "    'psd_fmax_cmrr': 70.0, # Hz (Max freq for CMRR PSD to include 60Hz)\n",
    "    # CMRR Proxy Calculation\n",
    "    'cmrr_noise_bandwidth': 1.0, # Hz (bandwidth around line noise freq)\n",
    "    # Alpha Power Ratio Calculation\n",
    "    'alpha_band': [8.0, 13.0], # Hz\n",
    "    # Note: Sample dataset lacks clear eyes open/closed. Using time segments as proxy.\n",
    "    'alpha_test_conditions': {\n",
    "        'closed_proxy': {'tmin': 0.0, 'tmax': 10.0}, # First 10s as proxy for eyes closed/rest\n",
    "        'open_proxy': {'tmin': 60.0, 'tmax': 70.0}   # Later 10s during task as proxy for eyes open/active\n",
    "    },\n",
    "    'alpha_epoch_duration': 2.0, # Duration for fixed-length events\n",
    "    # Noise Addition\n",
    "    'noise_level_factor': 10.0 # Factor relative to signal std dev to scale noise (Increased significantly)\n",
    "}\n",
    "\n",
    "# Construct the full path after getting the data_path\n",
    "config['raw_fname'] = os.path.join(config['data_path'], config['raw_fname_relative'])\n",
    "\n",
    "print(f\"Using MNE sample data from: {config['data_path']}\")\n",
    "print(f\"Raw file path: {config['raw_fname']}\")"
   ]
  },
  {
   "cell_type": "markdown",
   "metadata": {},
   "source": [
    "## 2. Load and Basic Data Preparation\n",
    "\n",
    "Load the MNE sample dataset (`sample_audvis_raw.fif`), select specific EEG channels, and set their type.\n",
    "A copy of the raw data is created *before* notch filtering for the CMRR proxy calculation."
   ]
  },
  {
   "cell_type": "code",
   "execution_count": 32,
   "metadata": {},
   "outputs": [
    {
     "name": "stdout",
     "output_type": "stream",
     "text": [
      "Opening raw data file C:\\Users\\fedor\\mne_data\\MNE-sample-data\\MEG\\sample\\sample_audvis_raw.fif...\n",
      "    Read a total of 3 projection items:\n",
      "        PCA-v1 (1 x 102)  idle\n",
      "        PCA-v2 (1 x 102)  idle\n",
      "        PCA-v3 (1 x 102)  idle\n",
      "    Range : 25800 ... 192599 =     42.956 ...   320.670 secs\n",
      "Ready.\n",
      "Reading 0 ... 166799  =      0.000 ...   277.714 secs...\n",
      "NOTE: pick_channels() is a legacy function. New code should use inst.pick(...).\n",
      "\n",
      "Original raw data loaded and channels selected:\n",
      "<Info | 19 non-empty values\n",
      " acq_pars: ACQch001 110113 ACQch002 110112 ACQch003 110111 ACQch004 110122 ...\n",
      " bads: []\n",
      " ch_names: EEG 001, EEG 002, EEG 058, EEG 059, EEG 060\n",
      " chs: 5 EEG\n",
      " custom_ref_applied: False\n",
      " description: acquisition (megacq) VectorView system at NMR-MGH\n",
      " dev_head_t: MEG device -> head transform\n",
      " dig: 146 items (3 Cardinal, 4 HPI, 61 EEG, 78 Extra)\n",
      " events: 1 item (list)\n",
      " experimenter: MEG\n",
      " file_id: 4 items (dict)\n",
      " highpass: 0.1 Hz\n",
      " hpi_meas: 1 item (list)\n",
      " hpi_results: 1 item (list)\n",
      " lowpass: 172.2 Hz\n",
      " meas_date: 2002-12-03 19:01:10 UTC\n",
      " meas_id: 4 items (dict)\n",
      " nchan: 5\n",
      " proj_id: 1 item (ndarray)\n",
      " proj_name: test\n",
      " projs: []\n",
      " sfreq: 600.6 Hz\n",
      ">\n"
     ]
    }
   ],
   "source": [
    "# Load the raw data\n",
    "raw_orig = mne.io.read_raw_fif(config['raw_fname'], preload=True)\n",
    "\n",
    "# Select specific EEG channels\n",
    "raw_orig.pick_channels(config['channels_to_analyze'])\n",
    "\n",
    "# Set channel types to EEG (important for some MNE functions)\n",
    "# Create a mapping for the selected channels\n",
    "channel_mapping = {ch_name: 'eeg' for ch_name in raw_orig.ch_names}\n",
    "raw_orig.set_channel_types(channel_mapping)\n",
    "\n",
    "# Make a copy for CMRR proxy calculation *before* notch filtering\n",
    "raw_for_cmrr_orig = raw_orig.copy()\n",
    "\n",
    "print(\"\\nOriginal raw data loaded and channels selected:\")\n",
    "print(raw_orig.info)"
   ]
  },
  {
   "cell_type": "markdown",
   "metadata": {},
   "source": [
    "## 3. Preprocessing\n",
    "\n",
    "Apply band-pass filtering, notch filtering (to the main `raw` object only), and optionally, average referencing."
   ]
  },
  {
   "cell_type": "code",
   "execution_count": 33,
   "metadata": {},
   "outputs": [
    {
     "name": "stdout",
     "output_type": "stream",
     "text": [
      "\n",
      "Applying band-pass filter (1.0-45.0 Hz) to ORIGINAL signal...\n",
      "Band-pass filtering applied to ORIGINAL signal.\n",
      "\n",
      "Applying notch filter (60.0 Hz) to main ORIGINAL raw object...\n",
      "Notch filtering applied to main ORIGINAL raw object.\n",
      "\n",
      "Applying average reference to ORIGINAL signal...\n",
      "Average reference applied to ORIGINAL signal.\n"
     ]
    }
   ],
   "source": [
    "# --- Preprocess the ORIGINAL signal --- \n",
    "raw = raw_orig.copy() # Work on a copy for preprocessing\n",
    "raw_for_cmrr = raw_for_cmrr_orig.copy()\n",
    "\n",
    "# Apply band-pass filter to both raw objects\n",
    "print(f\"\\nApplying band-pass filter ({config['filter_bp_low']}-{config['filter_bp_high']} Hz) to ORIGINAL signal...\")\n",
    "raw.filter(l_freq=config['filter_bp_low'], h_freq=config['filter_bp_high'],\n",
    "           fir_design='firwin', verbose=False)\n",
    "raw_for_cmrr.filter(l_freq=config['filter_bp_low'], h_freq=config['filter_bp_high'],\n",
    "                    fir_design='firwin', verbose=False)\n",
    "print(\"Band-pass filtering applied to ORIGINAL signal.\")\n",
    "\n",
    "# Apply notch filter only to the main raw object\n",
    "print(f\"\\nApplying notch filter ({config['line_noise_freq']} Hz) to main ORIGINAL raw object...\")\n",
    "raw.notch_filter(freqs=config['line_noise_freq'], fir_design='firwin', verbose=False)\n",
    "print(\"Notch filtering applied to main ORIGINAL raw object.\")\n",
    "\n",
    "# Apply average reference (optional but recommended)\n",
    "if config['apply_average_reference']:\n",
    "    print(\"\\nApplying average reference to ORIGINAL signal...\")\n",
    "    raw.set_eeg_reference('average', projection=True, verbose=False)\n",
    "    raw.apply_proj(verbose=False)\n",
    "    # Apply to the CMRR copy as well if desired, though CMRR is often assessed pre-reference\n",
    "    # raw_for_cmrr.set_eeg_reference('average', projection=True, verbose=False)\n",
    "    # raw_for_cmrr.apply_proj(verbose=False)\n",
    "    print(\"Average reference applied to ORIGINAL signal.\")\n",
    "else:\n",
    "    print(\"\\nSkipping average reference for ORIGINAL signal.\")"
   ]
  },
  {
   "cell_type": "markdown",
   "metadata": {},
   "source": [
    "## 4. Calculate Quality Metrics for ORIGINAL Signal\n",
    "\n",
    "Now, calculate the three quality metrics: SNR, CMRR Proxy, and Alpha Power Ratio for the original, preprocessed signal."
   ]
  },
  {
   "cell_type": "markdown",
   "metadata": {},
   "source": [
    "### 4.1. SNR (Original Signal)\n",
    "\n",
    "Calculated using Welch's PSD on the fully preprocessed data. SNR is defined as the ratio of power in the signal band (alpha) to the average power in surrounding noise bands (theta, beta)."
   ]
  },
  {
   "cell_type": "code",
   "execution_count": 34,
   "metadata": {},
   "outputs": [
    {
     "name": "stdout",
     "output_type": "stream",
     "text": [
      "\n",
      "Calculating SNR for ORIGINAL signal...\n",
      "Average SNR across channels (Original): 3.77 dB\n"
     ]
    }
   ],
   "source": [
    "print(\"\\nCalculating SNR for ORIGINAL signal...\")\n",
    "# Calculate PSD using Welch's method on the fully processed data\n",
    "spectrum = raw.compute_psd(\n",
    "    method=config['psd_method'],\n",
    "    fmin=config['psd_fmin'],\n",
    "    fmax=config['psd_fmax'], # Use general fmax here\n",
    "    n_fft=config['psd_n_fft'],\n",
    "    n_overlap=config['psd_n_overlap'],\n",
    "    picks=config['channels_to_analyze'],\n",
    "    verbose=False\n",
    ")\n",
    "psds, freqs = spectrum.get_data(return_freqs=True) # Shape: (n_channels, n_freqs)\n",
    "\n",
    "# Find frequency indices for signal and noise bands\n",
    "signal_band = config['snr_signal_band']\n",
    "noise_bands = config['snr_noise_bands']\n",
    "\n",
    "freq_res = freqs[1] - freqs[0] # Frequency resolution\n",
    "\n",
    "# Signal band indices\n",
    "sig_idx = np.where((freqs >= signal_band[0]) & (freqs <= signal_band[1]))[0]\n",
    "\n",
    "# Noise band indices\n",
    "noise_idx = []\n",
    "for band in noise_bands:\n",
    "    noise_idx.extend(np.where((freqs >= band[0]) & (freqs <= band[1]))[0])\n",
    "noise_idx = np.array(sorted(list(set(noise_idx)))) # Unique sorted indices\n",
    "\n",
    "# Calculate power (approximated by summing PSD values in the band)\n",
    "# Simple average power density:\n",
    "signal_power_density = np.mean(psds[:, sig_idx], axis=1) # Average PSD value in signal band per channel\n",
    "noise_power_density = np.mean(psds[:, noise_idx], axis=1) # Average PSD value in noise bands per channel\n",
    "\n",
    "# Avoid division by zero or log(0)\n",
    "epsilon = 1e-15\n",
    "signal_power_density = np.maximum(signal_power_density, epsilon)\n",
    "noise_power_density = np.maximum(noise_power_density, epsilon)\n",
    "\n",
    "# Calculate SNR in dB\n",
    "snr_db_per_channel = 10 * np.log10(signal_power_density / noise_power_density)\n",
    "\n",
    "# Average SNR across channels\n",
    "average_snr_db_orig = np.mean(snr_db_per_channel)\n",
    "\n",
    "print(f\"Average SNR across channels (Original): {average_snr_db_orig:.2f} dB\")"
   ]
  },
  {
   "cell_type": "markdown",
   "metadata": {},
   "source": [
    "### 4.2. CMRR Proxy (Original Signal)\n",
    "\n",
    "Calculated using Welch's PSD on the data *before* notch filtering (`raw_for_cmrr`). It measures the power specifically around the line noise frequency. Lower values indicate better rejection of common-mode line noise."
   ]
  },
  {
   "cell_type": "code",
   "execution_count": 35,
   "metadata": {},
   "outputs": [
    {
     "name": "stdout",
     "output_type": "stream",
     "text": [
      "\n",
      "Calculating CMRR Proxy (Line Noise Power) for ORIGINAL signal...\n",
      "Average Line Noise Power (CMRR Proxy) across channels (Original): 7.39e-17 (uV^2/Hz)\n"
     ]
    }
   ],
   "source": [
    "print(\"\\nCalculating CMRR Proxy (Line Noise Power) for ORIGINAL signal...\")\n",
    "# Calculate PSD using Welch's method on the data *before* notch filter\n",
    "spectrum_cmrr = raw_for_cmrr.compute_psd(\n",
    "    method=config['psd_method'],\n",
    "    fmin=config['psd_fmin'],\n",
    "    fmax=config['psd_fmax_cmrr'], # Use specific fmax for CMRR\n",
    "    n_fft=config['psd_n_fft'],\n",
    "    n_overlap=config['psd_n_overlap'],\n",
    "    picks=config['channels_to_analyze'],\n",
    "    verbose=False\n",
    ")\n",
    "psds_cmrr, freqs_cmrr = spectrum_cmrr.get_data(return_freqs=True)\n",
    "\n",
    "# Find frequency indices around the line noise frequency\n",
    "noise_freq = config['line_noise_freq']\n",
    "noise_bw = config['cmrr_noise_bandwidth']\n",
    "line_noise_idx = np.where((freqs_cmrr >= noise_freq - noise_bw / 2) &\n",
    "                          (freqs_cmrr <= noise_freq + noise_bw / 2))[0]\n",
    "\n",
    "if len(line_noise_idx) == 0:\n",
    "    print(f\"Warning: No frequency bins found within {noise_bw} Hz of {noise_freq} Hz. Check PSD settings (sfreq, n_fft, fmax_cmrr).\")\n",
    "    line_noise_power_per_channel = np.full(psds_cmrr.shape[0], np.nan)\n",
    "else:\n",
    "    # Calculate average power density in the line noise band\n",
    "    line_noise_power_per_channel = np.mean(psds_cmrr[:, line_noise_idx], axis=1)\n",
    "\n",
    "# Average across channels\n",
    "average_line_noise_power_orig = np.nanmean(line_noise_power_per_channel) # Use nanmean in case of issues\n",
    "\n",
    "print(f\"Average Line Noise Power (CMRR Proxy) across channels (Original): {average_line_noise_power_orig:.2e} (uV^2/Hz)\")"
   ]
  },
  {
   "cell_type": "markdown",
   "metadata": {},
   "source": [
    "### 4.3. Alpha Power Ratio (Original Signal)\n",
    "\n",
    "Compares the power in the alpha band between two conditions, typically \"eyes closed\" vs. \"eyes open\".\n",
    "**Note:** The MNE sample dataset lacks explicit markers for these states. We use the first 10 seconds as a proxy for \"eyes closed/rest\" and seconds 60-70 as a proxy for \"eyes open/active\". This metric's interpretation is limited by this dataset."
   ]
  },
  {
   "cell_type": "code",
   "execution_count": 36,
   "metadata": {},
   "outputs": [
    {
     "name": "stdout",
     "output_type": "stream",
     "text": [
      "\n",
      "Calculating Alpha Power Ratio for ORIGINAL signal...\n",
      "Created 5 epochs for condition 'closed_proxy' (Original)\n",
      "Created 5 epochs for condition 'open_proxy' (Original)\n",
      "Average Alpha Power Ratio (Closed/Open Proxy) across channels (Original): 0.63\n",
      "(Note: Ratio based on time segment proxies, not explicit events)\n"
     ]
    }
   ],
   "source": [
    "print(\"\\nCalculating Alpha Power Ratio for ORIGINAL signal...\")\n",
    "\n",
    "alpha_results_orig = {'ratio_per_channel': [], 'average_ratio': np.nan}\n",
    "epsilon = 1e-15 # Define epsilon here as well\n",
    "\n",
    "try:\n",
    "    # --- Create Epochs for the two proxy conditions using make_fixed_length_events ---\n",
    "    epochs_list = []\n",
    "    conditions = ['closed_proxy', 'open_proxy']\n",
    "    event_id_map = {'closed_proxy': 1, 'open_proxy': 2}\n",
    "\n",
    "    for condition in conditions:\n",
    "        tmin = config['alpha_test_conditions'][condition]['tmin']\n",
    "        tmax = config['alpha_test_conditions'][condition]['tmax']\n",
    "\n",
    "        # Crop the raw data to the relevant time segment first\n",
    "        raw_cropped = raw.copy().crop(tmin=tmin, tmax=tmax, include_tmax=False)\n",
    "\n",
    "        # Make events for this cropped segment\n",
    "        events = mne.make_fixed_length_events(raw_cropped,\n",
    "                                              id=event_id_map[condition],\n",
    "                                              duration=config['alpha_epoch_duration'])\n",
    "\n",
    "        if events.shape[0] == 0:\n",
    "             print(f\"Debug: No events generated for condition '{condition}'. Skipping epoch creation.\")\n",
    "             epochs = mne.EpochsArray(np.empty((0, len(config['channels_to_analyze']), 1)),\n",
    "                                      mne.create_info(config['channels_to_analyze'], raw.info['sfreq'], ch_types='eeg'))\n",
    "             epochs_list.append(epochs)\n",
    "             continue\n",
    "\n",
    "        # Adjust event timings for the original raw object\n",
    "        events[:, 0] += raw.time_as_index(tmin)[0]\n",
    "\n",
    "        epochs = mne.Epochs(\n",
    "            raw, # Use the original, fully processed raw object\n",
    "            events=events,\n",
    "            event_id=event_id_map[condition],\n",
    "            tmin=0,\n",
    "            tmax=config['alpha_epoch_duration'],\n",
    "            baseline=None, reject=None, flat=None,\n",
    "            picks=config['channels_to_analyze'],\n",
    "            preload=True, verbose=False\n",
    "        )\n",
    "        epochs_list.append(epochs)\n",
    "        print(f\"Created {len(epochs)} epochs for condition '{condition}' (Original)\")\n",
    "\n",
    "    if len(epochs_list) != 2:\n",
    "        raise ValueError(\"Could not create epochs for both conditions.\")\n",
    "        \n",
    "    epochs_closed, epochs_open = epochs_list\n",
    "\n",
    "    # --- Calculate PSD for each condition ---\n",
    "    if len(epochs_closed) == 0 or len(epochs_open) == 0:\n",
    "        raise ValueError(\"Not enough epochs for one or both conditions.\")\n",
    "\n",
    "    spectrum_closed = epochs_closed.compute_psd(\n",
    "        method=config['psd_method'], fmin=config['psd_fmin'], fmax=config['psd_fmax'],\n",
    "        n_fft=config['psd_n_fft'], n_overlap=config['psd_n_overlap'],\n",
    "        average='mean', picks=config['channels_to_analyze'], verbose=False\n",
    "    )\n",
    "    psds_closed, freqs_alpha = spectrum_closed.get_data(return_freqs=True)\n",
    "\n",
    "    spectrum_open = epochs_open.compute_psd(\n",
    "        method=config['psd_method'], fmin=config['psd_fmin'], fmax=config['psd_fmax'],\n",
    "        n_fft=config['psd_n_fft'], n_overlap=config['psd_n_overlap'],\n",
    "        average='mean', picks=config['channels_to_analyze'], verbose=False\n",
    "    )\n",
    "    psds_open, _ = spectrum_open.get_data(return_freqs=True)\n",
    "\n",
    "    # Average PSDs across epochs if necessary (MNE might return 3D)\n",
    "    if psds_closed.ndim == 3:\n",
    "        psds_closed_avg = np.mean(psds_closed, axis=0)\n",
    "        psds_open_avg = np.mean(psds_open, axis=0)\n",
    "    else:\n",
    "        psds_closed_avg = psds_closed\n",
    "        psds_open_avg = psds_open\n",
    "\n",
    "    # --- Calculate Alpha Power Ratio ---\n",
    "    alpha_band = config['alpha_band']\n",
    "    if psds_closed_avg.shape[1] != len(freqs_alpha):\n",
    "         raise ValueError(f\"Mismatch between averaged PSD frequency dimension ({psds_closed_avg.shape[1]}) and freqs_alpha length ({len(freqs_alpha)})\")\n",
    "\n",
    "    alpha_idx = np.where((freqs_alpha >= alpha_band[0]) & (freqs_alpha <= alpha_band[1]))[0]\n",
    "\n",
    "    if len(alpha_idx) == 0:\n",
    "        raise ValueError(f\"No frequency bins found in alpha band {alpha_band}. Check PSD settings.\")\n",
    "\n",
    "    alpha_power_closed = np.mean(psds_closed_avg[:, alpha_idx], axis=1)\n",
    "    alpha_power_open = np.mean(psds_open_avg[:, alpha_idx], axis=1)\n",
    "\n",
    "    alpha_power_open = np.maximum(alpha_power_open, epsilon)\n",
    "\n",
    "    alpha_ratio_per_channel = alpha_power_closed / alpha_power_open\n",
    "    alpha_results_orig['ratio_per_channel'] = alpha_ratio_per_channel\n",
    "\n",
    "    average_alpha_ratio_orig = np.mean(alpha_ratio_per_channel)\n",
    "    alpha_results_orig['average_ratio'] = average_alpha_ratio_orig\n",
    "\n",
    "    print(f\"Average Alpha Power Ratio (Closed/Open Proxy) across channels (Original): {average_alpha_ratio_orig:.2f}\")\n",
    "    print(\"(Note: Ratio based on time segment proxies, not explicit events)\")\n",
    "\n",
    "except ValueError as e:\n",
    "    print(f\"Error calculating Alpha Power Ratio for ORIGINAL signal: {e}\")\n",
    "    print(\"Skipping Alpha Power Ratio calculation for ORIGINAL signal.\")\n",
    "except Exception as e:\n",
    "    print(f\"An unexpected error occurred during Alpha Power Ratio calculation for ORIGINAL signal:\\n{traceback.format_exc()}\")\n",
    "    print(\"Skipping Alpha Power Ratio calculation for ORIGINAL signal.\")"
   ]
  },
  {
   "cell_type": "markdown",
   "metadata": {},
   "source": [
    "## 5. Create Degraded Signal and Recalculate Metrics\n",
    "\n",
    "Now, let's artificially degrade the signal by adding Gaussian noise and recalculate the metrics for comparison."
   ]
  },
  {
   "cell_type": "code",
   "execution_count": 37,
   "metadata": {},
   "outputs": [
    {
     "name": "stdout",
     "output_type": "stream",
     "text": [
      "\n",
      "--- Degrading Signal and Recalculating Metrics ---\n",
      "Signal std dev: 8.40e-06\n",
      "Adding Gaussian noise with std dev: 8.40e-05 (1000.0% of signal std)\n",
      "Noise added to create degraded signals.\n"
     ]
    }
   ],
   "source": [
    "print(\"\\n--- Degrading Signal and Recalculating Metrics ---\")\n",
    "\n",
    "# --- Create Noisy Copies ---\n",
    "raw_noisy = raw.copy() # Start from the preprocessed original signal\n",
    "raw_for_cmrr_noisy = raw_for_cmrr.copy() # Start from the pre-notch filtered original signal\n",
    "\n",
    "# --- Add Gaussian Noise ---\n",
    "# Calculate signal standard deviation (use the preprocessed 'raw' object)\n",
    "signal_data = raw.get_data()\n",
    "signal_std = np.std(signal_data)\n",
    "\n",
    "# Calculate noise standard deviation\n",
    "noise_std = signal_std * config['noise_level_factor']\n",
    "print(f\"Signal std dev: {signal_std:.2e}\")\n",
    "print(f\"Adding Gaussian noise with std dev: {noise_std:.2e} ({config['noise_level_factor'] * 100}% of signal std)\")\n",
    "\n",
    "# Generate noise\n",
    "noise = np.random.normal(0, noise_std, size=signal_data.shape)\n",
    "\n",
    "# Add noise to the main preprocessed signal\n",
    "raw_noisy._data += noise\n",
    "\n",
    "# Add the same noise to the pre-notch filtered signal (for CMRR comparison)\n",
    "# Note: This assumes the noise is added *after* the original bandpass filtering\n",
    "# but *before* the notch filter would have been applied in a real scenario.\n",
    "raw_for_cmrr_noisy._data += noise\n",
    "\n",
    "print(\"Noise added to create degraded signals.\")"
   ]
  },
  {
   "cell_type": "markdown",
   "metadata": {},
   "source": [
    "### 5.1. SNR (Noisy Signal)"
   ]
  },
  {
   "cell_type": "code",
   "execution_count": 38,
   "metadata": {},
   "outputs": [
    {
     "name": "stdout",
     "output_type": "stream",
     "text": [
      "\n",
      "Calculating SNR for NOISY signal...\n",
      "Average SNR across channels (Noisy): 0.28 dB\n"
     ]
    }
   ],
   "source": [
    "print(\"\\nCalculating SNR for NOISY signal...\")\n",
    "# Calculate PSD using Welch's method on the noisy data\n",
    "spectrum_noisy = raw_noisy.compute_psd(\n",
    "    method=config['psd_method'],\n",
    "    fmin=config['psd_fmin'],\n",
    "    fmax=config['psd_fmax'],\n",
    "    n_fft=config['psd_n_fft'],\n",
    "    n_overlap=config['psd_n_overlap'],\n",
    "    picks=config['channels_to_analyze'],\n",
    "    verbose=False\n",
    ")\n",
    "psds_noisy, freqs_noisy = spectrum_noisy.get_data(return_freqs=True)\n",
    "\n",
    "# Use the same frequency indices as before\n",
    "signal_power_density_noisy = np.mean(psds_noisy[:, sig_idx], axis=1)\n",
    "noise_power_density_noisy = np.mean(psds_noisy[:, noise_idx], axis=1)\n",
    "\n",
    "signal_power_density_noisy = np.maximum(signal_power_density_noisy, epsilon)\n",
    "noise_power_density_noisy = np.maximum(noise_power_density_noisy, epsilon)\n",
    "\n",
    "snr_db_per_channel_noisy = 10 * np.log10(signal_power_density_noisy / noise_power_density_noisy)\n",
    "average_snr_db_noisy = np.mean(snr_db_per_channel_noisy)\n",
    "\n",
    "print(f\"Average SNR across channels (Noisy): {average_snr_db_noisy:.2f} dB\")"
   ]
  },
  {
   "cell_type": "markdown",
   "metadata": {},
   "source": [
    "### 5.2. CMRR Proxy (Noisy Signal)"
   ]
  },
  {
   "cell_type": "code",
   "execution_count": 39,
   "metadata": {},
   "outputs": [
    {
     "name": "stdout",
     "output_type": "stream",
     "text": [
      "\n",
      "Calculating CMRR Proxy (Line Noise Power) for NOISY signal...\n",
      "Average Line Noise Power (CMRR Proxy) across channels (Noisy): 2.24e-11 (uV^2/Hz)\n"
     ]
    }
   ],
   "source": [
    "print(\"\\nCalculating CMRR Proxy (Line Noise Power) for NOISY signal...\")\n",
    "# Calculate PSD using Welch's method on the noisy data *before* notch filter\n",
    "spectrum_cmrr_noisy = raw_for_cmrr_noisy.compute_psd(\n",
    "    method=config['psd_method'],\n",
    "    fmin=config['psd_fmin'],\n",
    "    fmax=config['psd_fmax_cmrr'],\n",
    "    n_fft=config['psd_n_fft'],\n",
    "    n_overlap=config['psd_n_overlap'],\n",
    "    picks=config['channels_to_analyze'],\n",
    "    verbose=False\n",
    ")\n",
    "psds_cmrr_noisy, freqs_cmrr_noisy = spectrum_cmrr_noisy.get_data(return_freqs=True)\n",
    "\n",
    "# Use the same line noise frequency indices as before\n",
    "line_noise_idx_noisy = np.where((freqs_cmrr_noisy >= noise_freq - noise_bw / 2) &\n",
    "                                (freqs_cmrr_noisy <= noise_freq + noise_bw / 2))[0]\n",
    "\n",
    "if len(line_noise_idx_noisy) == 0:\n",
    "    print(f\"Warning: No frequency bins found for noisy signal. Using original indices.\")\n",
    "    # Fallback or handle error - using original indices might be okay if freqs match\n",
    "    line_noise_power_per_channel_noisy = np.full(psds_cmrr_noisy.shape[0], np.nan)\n",
    "else:\n",
    "    line_noise_power_per_channel_noisy = np.mean(psds_cmrr_noisy[:, line_noise_idx_noisy], axis=1)\n",
    "\n",
    "average_line_noise_power_noisy = np.nanmean(line_noise_power_per_channel_noisy)\n",
    "\n",
    "print(f\"Average Line Noise Power (CMRR Proxy) across channels (Noisy): {average_line_noise_power_noisy:.2e} (uV^2/Hz)\")"
   ]
  },
  {
   "cell_type": "markdown",
   "metadata": {},
   "source": [
    "### 5.3. Alpha Power Ratio (Noisy Signal)"
   ]
  },
  {
   "cell_type": "code",
   "execution_count": 40,
   "metadata": {},
   "outputs": [
    {
     "name": "stdout",
     "output_type": "stream",
     "text": [
      "\n",
      "Calculating Alpha Power Ratio for NOISY signal...\n",
      "Created 5 epochs for condition 'closed_proxy' (Noisy)\n",
      "Created 5 epochs for condition 'open_proxy' (Noisy)\n",
      "Average Alpha Power Ratio (Closed/Open Proxy) across channels (Noisy): 0.91\n"
     ]
    }
   ],
   "source": [
    "print(\"\\nCalculating Alpha Power Ratio for NOISY signal...\")\n",
    "\n",
    "alpha_results_noisy = {'ratio_per_channel': [], 'average_ratio': np.nan}\n",
    "\n",
    "try:\n",
    "    # --- Create Epochs for the two proxy conditions using the NOISY signal ---\n",
    "    epochs_list_noisy = []\n",
    "    # Conditions and event_id_map remain the same\n",
    "\n",
    "    for condition in conditions:\n",
    "        tmin = config['alpha_test_conditions'][condition]['tmin']\n",
    "        tmax = config['alpha_test_conditions'][condition]['tmax']\n",
    "\n",
    "        # Crop the NOISY raw data\n",
    "        raw_noisy_cropped = raw_noisy.copy().crop(tmin=tmin, tmax=tmax, include_tmax=False)\n",
    "\n",
    "        # Make events for this cropped segment\n",
    "        events_noisy = mne.make_fixed_length_events(raw_noisy_cropped,\n",
    "                                                    id=event_id_map[condition],\n",
    "                                                    duration=config['alpha_epoch_duration'])\n",
    "\n",
    "        if events_noisy.shape[0] == 0:\n",
    "             print(f\"Debug: No events generated for noisy condition '{condition}'. Skipping epoch creation.\")\n",
    "             epochs_noisy = mne.EpochsArray(np.empty((0, len(config['channels_to_analyze']), 1)),\n",
    "                                            mne.create_info(config['channels_to_analyze'], raw_noisy.info['sfreq'], ch_types='eeg'))\n",
    "             epochs_list_noisy.append(epochs_noisy)\n",
    "             continue\n",
    "\n",
    "        # Adjust event timings for the original raw object\n",
    "        events_noisy[:, 0] += raw_noisy.time_as_index(tmin)[0]\n",
    "\n",
    "        epochs_noisy = mne.Epochs(\n",
    "            raw_noisy, # Use the NOISY processed raw object\n",
    "            events=events_noisy,\n",
    "            event_id=event_id_map[condition],\n",
    "            tmin=0,\n",
    "            tmax=config['alpha_epoch_duration'],\n",
    "            baseline=None, reject=None, flat=None,\n",
    "            picks=config['channels_to_analyze'],\n",
    "            preload=True, verbose=False\n",
    "        )\n",
    "        epochs_list_noisy.append(epochs_noisy)\n",
    "        print(f\"Created {len(epochs_noisy)} epochs for condition '{condition}' (Noisy)\")\n",
    "\n",
    "    if len(epochs_list_noisy) != 2:\n",
    "        raise ValueError(\"Could not create noisy epochs for both conditions.\")\n",
    "        \n",
    "    epochs_closed_noisy, epochs_open_noisy = epochs_list_noisy\n",
    "\n",
    "    # --- Calculate PSD for each condition ---\n",
    "    if len(epochs_closed_noisy) == 0 or len(epochs_open_noisy) == 0:\n",
    "        raise ValueError(\"Not enough noisy epochs for one or both conditions.\")\n",
    "\n",
    "    spectrum_closed_noisy = epochs_closed_noisy.compute_psd(\n",
    "        method=config['psd_method'], fmin=config['psd_fmin'], fmax=config['psd_fmax'],\n",
    "        n_fft=config['psd_n_fft'], n_overlap=config['psd_n_overlap'],\n",
    "        average='mean', picks=config['channels_to_analyze'], verbose=False\n",
    "    )\n",
    "    psds_closed_noisy, freqs_alpha_noisy = spectrum_closed_noisy.get_data(return_freqs=True)\n",
    "\n",
    "    spectrum_open_noisy = epochs_open_noisy.compute_psd(\n",
    "        method=config['psd_method'], fmin=config['psd_fmin'], fmax=config['psd_fmax'],\n",
    "        n_fft=config['psd_n_fft'], n_overlap=config['psd_n_overlap'],\n",
    "        average='mean', picks=config['channels_to_analyze'], verbose=False\n",
    "    )\n",
    "    psds_open_noisy, _ = spectrum_open_noisy.get_data(return_freqs=True)\n",
    "\n",
    "    # Average PSDs across epochs if necessary\n",
    "    if psds_closed_noisy.ndim == 3:\n",
    "        psds_closed_noisy_avg = np.mean(psds_closed_noisy, axis=0)\n",
    "        psds_open_noisy_avg = np.mean(psds_open_noisy, axis=0)\n",
    "    else:\n",
    "        psds_closed_noisy_avg = psds_closed_noisy\n",
    "        psds_open_noisy_avg = psds_open_noisy\n",
    "\n",
    "    # --- Calculate Alpha Power Ratio ---\n",
    "    # Use the same alpha_idx as before (assuming frequencies match)\n",
    "    if psds_closed_noisy_avg.shape[1] != len(freqs_alpha_noisy):\n",
    "         raise ValueError(f\"Mismatch between noisy PSD frequency dimension ({psds_closed_noisy_avg.shape[1]}) and freqs_alpha_noisy length ({len(freqs_alpha_noisy)})\")\n",
    "    \n",
    "    # Re-calculate alpha_idx based on noisy frequencies just in case\n",
    "    alpha_idx_noisy = np.where((freqs_alpha_noisy >= alpha_band[0]) & (freqs_alpha_noisy <= alpha_band[1]))[0]\n",
    "    if len(alpha_idx_noisy) == 0:\n",
    "        raise ValueError(f\"No frequency bins found in alpha band {alpha_band} for noisy signal.\")\n",
    "\n",
    "    alpha_power_closed_noisy = np.mean(psds_closed_noisy_avg[:, alpha_idx_noisy], axis=1)\n",
    "    alpha_power_open_noisy = np.mean(psds_open_noisy_avg[:, alpha_idx_noisy], axis=1)\n",
    "\n",
    "    alpha_power_open_noisy = np.maximum(alpha_power_open_noisy, epsilon)\n",
    "\n",
    "    alpha_ratio_per_channel_noisy = alpha_power_closed_noisy / alpha_power_open_noisy\n",
    "    alpha_results_noisy['ratio_per_channel'] = alpha_ratio_per_channel_noisy\n",
    "\n",
    "    average_alpha_ratio_noisy = np.mean(alpha_ratio_per_channel_noisy)\n",
    "    alpha_results_noisy['average_ratio'] = average_alpha_ratio_noisy\n",
    "\n",
    "    print(f\"Average Alpha Power Ratio (Closed/Open Proxy) across channels (Noisy): {average_alpha_ratio_noisy:.2f}\")\n",
    "\n",
    "except ValueError as e:\n",
    "    print(f\"Error calculating Alpha Power Ratio for NOISY signal: {e}\")\n",
    "    print(\"Skipping Alpha Power Ratio calculation for NOISY signal.\")\n",
    "except Exception as e:\n",
    "    print(f\"An unexpected error occurred during Alpha Power Ratio calculation for NOISY signal:\\n{traceback.format_exc()}\")\n",
    "    print(\"Skipping Alpha Power Ratio calculation for NOISY signal.\")"
   ]
  },
  {
   "cell_type": "markdown",
   "metadata": {},
   "source": [
    "## 6. Results Summary and Comparison\n",
    "\n",
    "Collect the calculated average metrics for both original and noisy signals into final dictionaries and plot a comparison."
   ]
  },
  {
   "cell_type": "code",
   "execution_count": 41,
   "metadata": {},
   "outputs": [
    {
     "name": "stdout",
     "output_type": "stream",
     "text": [
      "\n",
      "--- Final Results (Original) ---\n",
      "{\n",
      "    \"Average_SNR_dB\": 3.769171299430414,\n",
      "    \"Average_Line_Noise_Power_Proxy\": 7.388602745894078e-17,\n",
      "    \"Average_Alpha_Ratio_Proxy\": 0.6269156669807998\n",
      "}\n",
      "\n",
      "--- Final Results (Noisy) ---\n",
      "{\n",
      "    \"Average_SNR_dB\": 0.2789883854696784,\n",
      "    \"Average_Line_Noise_Power_Proxy\": 2.2406150991547818e-11,\n",
      "    \"Average_Alpha_Ratio_Proxy\": 0.9055940303630192\n",
      "}\n"
     ]
    }
   ],
   "source": [
    "# Store original results\n",
    "results_orig = {\n",
    "    'Average_SNR_dB': average_snr_db_orig,\n",
    "    'Average_Line_Noise_Power_Proxy': average_line_noise_power_orig,\n",
    "    'Average_Alpha_Ratio_Proxy': alpha_results_orig['average_ratio'] # Will be NaN if calculation failed\n",
    "}\n",
    "\n",
    "# Store noisy results\n",
    "results_noisy = {\n",
    "    'Average_SNR_dB': average_snr_db_noisy,\n",
    "    'Average_Line_Noise_Power_Proxy': average_line_noise_power_noisy,\n",
    "    'Average_Alpha_Ratio_Proxy': alpha_results_noisy['average_ratio'] # Will be NaN if calculation failed\n",
    "}\n",
    "\n",
    "print(\"\\n--- Final Results (Original) ---\")\n",
    "print(json.dumps(results_orig, indent=4))\n",
    "\n",
    "print(\"\\n--- Final Results (Noisy) ---\")\n",
    "print(json.dumps(results_noisy, indent=4))"
   ]
  },
  {
   "cell_type": "code",
   "execution_count": 43,
   "metadata": {},
   "outputs": [
    {
     "name": "stdout",
     "output_type": "stream",
     "text": [
      "\n",
      "Generating comparison plot (dark style)...\n",
      "Note: Using log scale for Y-axis due to Line Noise Power values.\n"
     ]
    },
    {
     "data": {
      "image/png": "[encoded data removed]",
      "text/plain": [
       "<Figure size 1200x700 with 1 Axes>"
      ]
     },
     "metadata": {},
     "output_type": "display_data"
    },
    {
     "name": "stdout",
     "output_type": "stream",
     "text": [
      "Comparison plot generated.\n"
     ]
    }
   ],
   "source": [
    "# --- Comparison Plot (Dark Style) ---\n",
    "print(\"\\nGenerating comparison plot (dark style)...\")\n",
    "\n",
    "plt.style.use('dark_background') # Apply dark theme\n",
    "\n",
    "metrics = list(results_orig.keys())\n",
    "labels = ['Original', 'Noisy']\n",
    "orig_values = [results_orig.get(m, np.nan) for m in metrics]\n",
    "noisy_values = [results_noisy.get(m, np.nan) for m in metrics]\n",
    "\n",
    "# Handle potential NaN values gracefully for plotting\n",
    "orig_values = [v if not np.isnan(v) else 0 for v in orig_values] # Replace NaN with 0 for plotting\n",
    "noisy_values = [v if not np.isnan(v) else 0 for v in noisy_values]\n",
    "\n",
    "x = np.arange(len(metrics))  # the label locations\n",
    "width = 0.35  # the width of the bars\n",
    "\n",
    "# Define colors inspired by the example\n",
    "color_orig = '#a98ff3' # Light purple/pinkish\n",
    "color_noisy = '#6a7dfe' # Light blue\n",
    "\n",
    "fig, ax = plt.subplots(figsize=(12, 7)) # Slightly taller figure\n",
    "rects1 = ax.bar(x - width/2, orig_values, width, label='Original', color=color_orig)\n",
    "rects2 = ax.bar(x + width/2, noisy_values, width, label=f'Noisy (Factor={config[\"noise_level_factor\"]})', color=color_noisy)\n",
    "\n",
    "# Add some text for labels, title and axes ticks\n",
    "ax.set_ylabel('Metric Value', fontsize=12)\n",
    "ax.set_title('Comparison of EEG Quality Metrics (Original vs. Noisy)', fontsize=14)\n",
    "ax.set_xticks(x)\n",
    "# Clean up metric names for display\n",
    "metric_labels = [m.replace('Average_', '').replace('_Proxy', '').replace('_dB', ' (dB)') for m in metrics]\n",
    "ax.set_xticklabels(metric_labels, fontsize=11)\n",
    "ax.legend(fontsize=11)\n",
    "\n",
    "# Remove top and right spines for cleaner look\n",
    "ax.spines['top'].set_visible(False)\n",
    "ax.spines['right'].set_visible(False)\n",
    "\n",
    "# Use log scale for Line Noise Power due to very small values\n",
    "log_applied = False\n",
    "try:\n",
    "    line_noise_index = metrics.index('Average_Line_Noise_Power_Proxy')\n",
    "    lnp_orig = results_orig.get('Average_Line_Noise_Power_Proxy', np.nan)\n",
    "    lnp_noisy = results_noisy.get('Average_Line_Noise_Power_Proxy', np.nan)\n",
    "    if not np.isnan(lnp_orig) and not np.isnan(lnp_noisy) and lnp_orig > 0 and lnp_noisy > 0:\n",
    "        # Check if values are significantly different before applying log scale\n",
    "        if abs(lnp_orig - lnp_noisy) / max(lnp_orig, lnp_noisy, 1e-20) > 0.1: # Check relative difference\n",
    "            ax.set_yscale('log', base=10)\n",
    "            ax.set_ylabel('Metric Value (Log Scale for Line Noise)', fontsize=12)\n",
    "            print(\"Note: Using log scale for Y-axis due to Line Noise Power values.\")\n",
    "            log_applied = True\n",
    "        else:\n",
    "            print(\"Note: Line Noise Power values are very similar; linear scale kept.\")\n",
    "    else:\n",
    "         print(\"Note: Cannot use log scale for Line Noise Power (non-positive or NaN values).\")\n",
    "except Exception as e:\n",
    "    print(f\"Could not apply log scale: {e}\") # Catch potential errors\n",
    "\n",
    "# Remove bar labels\n",
    "# ax.bar_label(rects1, padding=3, fmt='%.2e')\n",
    "# ax.bar_label(rects2, padding=3, fmt='%.2e')\n",
    "\n",
    "fig.tight_layout()\n",
    "# Adjust grid lines for dark theme\n",
    "ax.grid(axis='y', linestyle='--', color='gray', alpha=0.3)\n",
    "plt.show()\n",
    "\n",
    "# Reset to default style if needed for subsequent plots in the notebook\n",
    "# plt.style.use('default')\n",
    "\n",
    "print(\"Comparison plot generated.\")"
   ]
  },
  {
   "cell_type": "markdown",
   "metadata": {},
   "source": [
    "## 7. Interpretation Guide\n",
    "\n",
    "*   **Average_SNR_dB**: Higher values are better. Expect this to decrease significantly with added noise.\n",
    "*   **Average_Line_Noise_Power_Proxy**: Lower values are better. Adding broadband noise might slightly increase the measured power in the line noise band, even though the noise isn't specifically line noise.\n",
    "*   **Average_Alpha_Ratio_Proxy**: Values > 1 indicate stronger alpha during 'closed' proxy. Added noise will likely obscure the alpha rhythm, pushing this ratio closer to 1 or even below 1.\n",
    "\n",
    "Compare the 'Original' and 'Noisy' bars in the plot above to see the impact of the added noise on each quality metric."
   ]
  },
  {
   "cell_type": "code",
   "execution_count": null,
   "metadata": {},
   "outputs": [],
   "source": [
    "print(\"\\nNotebook execution finished.\")"
   ]
  }
 ],
 "metadata": {
  "kernelspec": {
   "display_name": "Python 3",
   "language": "python",
   "name": "python3"
  },
  "language_info": {
   "codemirror_mode": {
    "name": "ipython",
    "version": 3
   },
   "file_extension": ".py",
   "mimetype": "text/x-python",
   "name": "python",
   "nbconvert_exporter": "python",
   "pygments_lexer": "ipython3",
   "version": "3.12.4"
  }
 },
 "nbformat": 4,
 "nbformat_minor": 4
}
